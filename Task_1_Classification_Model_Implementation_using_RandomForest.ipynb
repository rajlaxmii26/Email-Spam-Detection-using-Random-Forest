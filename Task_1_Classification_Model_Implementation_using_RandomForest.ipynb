{
  "nbformat": 4,
  "nbformat_minor": 0,
  "metadata": {
    "colab": {
      "provenance": []
    },
    "kernelspec": {
      "name": "python3",
      "display_name": "Python 3"
    },
    "language_info": {
      "name": "python"
    }
  },
  "cells": [
    {
      "cell_type": "code",
      "execution_count": 2,
      "metadata": {
        "id": "Bh5OISxbY8qX"
      },
      "outputs": [],
      "source": [
        "import os\n",
        "import pandas as pd\n",
        "from sklearn.model_selection import train_test_split\n",
        "from sklearn.feature_extraction.text import CountVectorizer\n",
        "from sklearn.ensemble import RandomForestClassifier\n",
        "from sklearn.metrics import accuracy_score, classification_report\n"
      ]
    },
    {
      "cell_type": "code",
      "source": [
        "import kagglehub\n",
        "\n",
        "# Download latest version\n",
        "path = kagglehub.dataset_download(\"beatoa/spamassassin-public-corpus\")\n",
        "\n",
        "print(\"Path to dataset files:\", path)"
      ],
      "metadata": {
        "colab": {
          "base_uri": "https://localhost:8080/"
        },
        "id": "NdzgBGHGZM9Y",
        "outputId": "8a36a621-c21d-4c77-ff3d-880fd44147ae"
      },
      "execution_count": 3,
      "outputs": [
        {
          "output_type": "stream",
          "name": "stdout",
          "text": [
            "Downloading from https://www.kaggle.com/api/v1/datasets/download/beatoa/spamassassin-public-corpus?dataset_version_number=2...\n"
          ]
        },
        {
          "output_type": "stream",
          "name": "stderr",
          "text": [
            "100%|██████████| 11.1M/11.1M [00:00<00:00, 48.8MB/s]"
          ]
        },
        {
          "output_type": "stream",
          "name": "stdout",
          "text": [
            "Extracting files...\n"
          ]
        },
        {
          "output_type": "stream",
          "name": "stderr",
          "text": [
            "\n"
          ]
        },
        {
          "output_type": "stream",
          "name": "stdout",
          "text": [
            "Path to dataset files: /root/.cache/kagglehub/datasets/beatoa/spamassassin-public-corpus/versions/2\n"
          ]
        }
      ]
    },
    {
      "cell_type": "code",
      "source": [
        "import os\n",
        "\n",
        "# List files in the downloaded directory\n",
        "print(os.listdir(path))\n"
      ],
      "metadata": {
        "colab": {
          "base_uri": "https://localhost:8080/"
        },
        "id": "FBYyb7ycjlck",
        "outputId": "8dce42f5-6531-4098-cac6-267add095f9a"
      },
      "execution_count": 4,
      "outputs": [
        {
          "output_type": "stream",
          "name": "stdout",
          "text": [
            "['spam_2', 'hard_ham', 'easy_ham']\n"
          ]
        }
      ]
    },
    {
      "cell_type": "markdown",
      "source": [
        "## ** Load the dataset**"
      ],
      "metadata": {
        "id": "uemniUwjVB8C"
      }
    },
    {
      "cell_type": "code",
      "source": [
        "# Define a function to load email data\n",
        "def load_spam_data(folder_path, label):\n",
        "    data = []\n",
        "    for root, _, files in os.walk(folder_path):\n",
        "        for file in files:\n",
        "            file_path = os.path.join(root, file)\n",
        "            try:\n",
        "                with open(file_path, 'r', encoding='latin-1') as f:\n",
        "                    text = f.read()\n",
        "                    data.append((text, label))\n",
        "            except Exception as e:\n",
        "                print(f\"Error reading file {file_path}: {e}\")\n",
        "    return pd.DataFrame(data, columns=['text', 'label'])\n",
        "\n",
        "# Load the spam and ham datasets\n",
        "spam_data = load_spam_data(os.path.join(path, 'spam_2'), 1)  # Spam label is 1\n",
        "ham_data = load_spam_data(os.path.join(path, 'hard_ham'), 0)  # Non-spam label is 0\n",
        "ham_easy_data = load_spam_data(os.path.join(path, 'easy_ham'), 0)\n",
        "\n",
        "# Combine all datasets\n",
        "df = pd.concat([spam_data, ham_data, ham_easy_data], ignore_index=True)\n",
        "\n",
        "# Shuffle the dataset\n",
        "df = df.sample(frac=1).reset_index(drop=True)\n",
        "\n",
        "# Check the dataset\n",
        "print(df.info())\n",
        "print(df.head())\n"
      ],
      "metadata": {
        "id": "3zo_yxgJoZ5O",
        "colab": {
          "base_uri": "https://localhost:8080/"
        },
        "outputId": "fca39dce-b211-4139-ba59-c9d160aeb1c6"
      },
      "execution_count": 5,
      "outputs": [
        {
          "output_type": "stream",
          "name": "stdout",
          "text": [
            "<class 'pandas.core.frame.DataFrame'>\n",
            "RangeIndex: 8398 entries, 0 to 8397\n",
            "Data columns (total 2 columns):\n",
            " #   Column  Non-Null Count  Dtype \n",
            "---  ------  --------------  ----- \n",
            " 0   text    8398 non-null   object\n",
            " 1   label   8398 non-null   int64 \n",
            "dtypes: int64(1), object(1)\n",
            "memory usage: 131.3+ KB\n",
            "None\n",
            "                                                text  label\n",
            "0  From exmh-workers-admin@redhat.com  Thu Aug 29...      0\n",
            "1  \u0000\u0005\u0016\u0007\u0000\u0002\u0000\u0000Mac OS X        \u0000\u0002\u0000\u0000\u0000\\t\u0000\u0000\u00002\u0000\u0000\u0000°\u0000\u0000\u0000\u0002\u0000\u0000\u0000...      0\n",
            "2  From razor-users-admin@lists.sourceforge.net  ...      0\n",
            "3  From exmh-users-admin@redhat.com  Wed Oct  9 2...      0\n",
            "4  \u0000\u0005\u0016\u0007\u0000\u0002\u0000\u0000Mac OS X        \u0000\u0002\u0000\u0000\u0000\\t\u0000\u0000\u00002\u0000\u0000\u0000°\u0000\u0000\u0000\u0002\u0000\u0000\u0000...      0\n"
          ]
        }
      ]
    },
    {
      "cell_type": "markdown",
      "source": [
        "## **Preprocess data**"
      ],
      "metadata": {
        "id": "l4svCQMVWN_F"
      }
    },
    {
      "cell_type": "code",
      "source": [
        "# Remove rows with empty text\n",
        "df = df[df['text'].str.strip().astype(bool)]\n",
        "\n",
        "# Vectorize the text data\n",
        "vectorizer = CountVectorizer(stop_words='english', max_features=5000)\n",
        "X = vectorizer.fit_transform(df['text'])  # Text to numerical features\n",
        "y = df['label']\n",
        "\n",
        "print(\"Shape of feature matrix:\", X.shape)\n",
        "print(\"Number of labels:\", len(y))\n"
      ],
      "metadata": {
        "colab": {
          "base_uri": "https://localhost:8080/"
        },
        "id": "t_eg9S4RWRNu",
        "outputId": "7ac0342a-19b6-4ba1-9e06-18f91a60a523"
      },
      "execution_count": 6,
      "outputs": [
        {
          "output_type": "stream",
          "name": "stdout",
          "text": [
            "Shape of feature matrix: (8398, 5000)\n",
            "Number of labels: 8398\n"
          ]
        }
      ]
    },
    {
      "cell_type": "markdown",
      "source": [
        "## **Split Data**"
      ],
      "metadata": {
        "id": "dxFUO-baWwmB"
      }
    },
    {
      "cell_type": "code",
      "source": [
        "# Split the data into train and test sets\n",
        "X_train, X_test, y_train, y_test = train_test_split(X, y, test_size=0.3, random_state=42)\n",
        "\n",
        "print(\"Training set size:\", X_train.shape)\n",
        "print(\"Testing set size:\", X_test.shape)\n"
      ],
      "metadata": {
        "colab": {
          "base_uri": "https://localhost:8080/"
        },
        "id": "DzvLkdXlWidw",
        "outputId": "9d63dca6-16ec-4933-c8e2-2d40965f4a0c"
      },
      "execution_count": 10,
      "outputs": [
        {
          "output_type": "stream",
          "name": "stdout",
          "text": [
            "Training set size: (5878, 5000)\n",
            "Testing set size: (2520, 5000)\n"
          ]
        }
      ]
    },
    {
      "cell_type": "markdown",
      "source": [
        "## **Train the random forest classifier**"
      ],
      "metadata": {
        "id": "ueJSGcP-W5HP"
      }
    },
    {
      "cell_type": "code",
      "source": [
        "# Initialize and train the Random Forest model\n",
        "rf_model = RandomForestClassifier(n_estimators=100, random_state=42)\n",
        "rf_model.fit(X_train, y_train)\n",
        "\n",
        "# Make predictions\n",
        "y_pred = rf_model.predict(X_test)\n"
      ],
      "metadata": {
        "id": "lPflkuRPWpQN"
      },
      "execution_count": 11,
      "outputs": []
    },
    {
      "cell_type": "markdown",
      "source": [
        "## **Evaluate the model**"
      ],
      "metadata": {
        "id": "j9Rh6chCXDiO"
      }
    },
    {
      "cell_type": "code",
      "source": [
        "# Evaluate the model\n",
        "accuracy = accuracy_score(y_test, y_pred)\n",
        "print(\"Random Forest Accuracy:\", accuracy)\n",
        "\n",
        "# Classification report\n",
        "print(\"Classification Report:\\n\", classification_report(y_test, y_pred))\n"
      ],
      "metadata": {
        "colab": {
          "base_uri": "https://localhost:8080/"
        },
        "id": "75yNHOxxW-3v",
        "outputId": "819ebc49-a568-453a-c804-e25f72cfea58"
      },
      "execution_count": 12,
      "outputs": [
        {
          "output_type": "stream",
          "name": "stdout",
          "text": [
            "Random Forest Accuracy: 0.9964285714285714\n",
            "Classification Report:\n",
            "               precision    recall  f1-score   support\n",
            "\n",
            "           0       1.00      0.99      1.00      1629\n",
            "           1       0.99      1.00      0.99       891\n",
            "\n",
            "    accuracy                           1.00      2520\n",
            "   macro avg       0.99      1.00      1.00      2520\n",
            "weighted avg       1.00      1.00      1.00      2520\n",
            "\n"
          ]
        }
      ]
    },
    {
      "cell_type": "markdown",
      "source": [
        "## **Importing libraries for visualization**"
      ],
      "metadata": {
        "id": "RyLbrJPrXim9"
      }
    },
    {
      "cell_type": "code",
      "source": [
        "import matplotlib.pyplot as plt\n",
        "import seaborn as sns\n",
        "from sklearn.metrics import confusion_matrix"
      ],
      "metadata": {
        "id": "SqED-U_jXGo3"
      },
      "execution_count": 13,
      "outputs": []
    },
    {
      "cell_type": "markdown",
      "source": [
        "### 1. Confusion Matrix"
      ],
      "metadata": {
        "id": "ynwyehtTXvCa"
      }
    },
    {
      "cell_type": "code",
      "source": [
        "cm = confusion_matrix(y_test, y_pred)\n",
        "\n",
        "# Plot the confusion matrix\n",
        "plt.figure(figsize=(6, 5))\n",
        "sns.heatmap(cm, annot=True, fmt='d', cmap='Blues', xticklabels=['Ham', 'Spam'], yticklabels=['Ham', 'Spam'])\n",
        "plt.title('Confusion Matrix')\n",
        "plt.xlabel('Predicted')\n",
        "plt.ylabel('Actual')\n",
        "plt.show()"
      ],
      "metadata": {
        "colab": {
          "base_uri": "https://localhost:8080/",
          "height": 487
        },
        "id": "ge79BCVfXtdX",
        "outputId": "50c20861-8599-45e3-b931-99c2c13d273e"
      },
      "execution_count": 14,
      "outputs": [
        {
          "output_type": "display_data",
          "data": {
            "text/plain": [
              "<Figure size 600x500 with 2 Axes>"
            ],
            "image/png": "[encoded data removed]"
          },
          "metadata": {}
        }
      ]
    },
    {
      "cell_type": "markdown",
      "source": [
        "### 2. Feature Importance (Random Forest)"
      ],
      "metadata": {
        "id": "UZvM7T--YEDP"
      }
    },
    {
      "cell_type": "code",
      "source": [
        "feature_importance = rf_model.feature_importances_\n",
        "features = vectorizer.get_feature_names_out()\n",
        "\n",
        "# Create a DataFrame for feature importance\n",
        "importance_df = pd.DataFrame({\n",
        "    'feature': features,\n",
        "    'importance': feature_importance\n",
        "})\n",
        "\n",
        "# Sort by importance\n",
        "importance_df = importance_df.sort_values(by='importance', ascending=False)\n",
        "\n",
        "# Plot the top 20 most important features\n",
        "plt.figure(figsize=(10, 6))\n",
        "sns.barplot(x='importance', y='feature', data=importance_df.head(20))\n",
        "plt.title('Top 20 Important Features')\n",
        "plt.show()\n"
      ],
      "metadata": {
        "colab": {
          "base_uri": "https://localhost:8080/",
          "height": 564
        },
        "id": "VflMcgZ0X6Ze",
        "outputId": "1b7c60f3-5be8-4971-e068-5cce59d00c4e"
      },
      "execution_count": 17,
      "outputs": [
        {
          "output_type": "display_data",
          "data": {
            "text/plain": [
              "<Figure size 1000x600 with 1 Axes>"
            ],
            "image/png": "[encoded data removed]"
          },
          "metadata": {}
        }
      ]
    },
    {
      "cell_type": "markdown",
      "source": [
        "## **Random predictions**"
      ],
      "metadata": {
        "id": "3zAVMeAhYusa"
      }
    },
    {
      "cell_type": "code",
      "source": [
        "import random\n",
        "\n",
        "# Step 1: Randomly select 5 indices from the test set\n",
        "random_indices = random.sample(range(X_test.shape[0]), 5)  # Use shape[0] for number of samples\n",
        "\n",
        "# Step 2: Select the corresponding raw text and actual labels\n",
        "sample_text = [X_test[i] for i in random_indices]  # Use raw email text\n",
        "actual_labels = y_test.iloc[random_indices]  # Use .iloc to index by position\n",
        "\n",
        "# Step 3: Make predictions using the Random Forest model\n",
        "predictions = rf_model.predict(X_test[random_indices])\n",
        "\n",
        "# Step 4: Display the random predictions and actual labels\n",
        "for i in range(len(random_indices)):\n",
        "    print(f\"Sample {i+1}:\")\n",
        "    print(f\"Text: {sample_text[i]}\")  # Show the actual email text\n",
        "    print(f\"Actual Label: {'Spam' if actual_labels.iloc[i] == 1 else 'Ham'}\")\n",
        "    print(f\"Predicted Label: {'Spam' if predictions[i] == 1 else 'Ham'}\\n\")\n"
      ],
      "metadata": {
        "colab": {
          "base_uri": "https://localhost:8080/"
        },
        "id": "675Q6D1pYIqM",
        "outputId": "74c0c13b-6025-46c9-e14a-b40bfe7868b6"
      },
      "execution_count": 26,
      "outputs": [
        {
          "output_type": "stream",
          "name": "stdout",
          "text": [
            "Sample 1:\n",
            "Text:   (0, 1310)\t9\n",
            "  (0, 288)\t5\n",
            "  (0, 459)\t1\n",
            "  (0, 201)\t7\n",
            "  (0, 3902)\t1\n",
            "  (0, 3411)\t1\n",
            "  (0, 1582)\t1\n",
            "  (0, 4985)\t2\n",
            "  (0, 2890)\t6\n",
            "  (0, 3213)\t2\n",
            "  (0, 3791)\t4\n",
            "  (0, 95)\t2\n",
            "  (0, 3465)\t2\n",
            "  (0, 2762)\t1\n",
            "  (0, 3558)\t1\n",
            "  (0, 1913)\t2\n",
            "  (0, 2493)\t3\n",
            "  (0, 2681)\t3\n",
            "  (0, 31)\t3\n",
            "  (0, 1802)\t1\n",
            "  (0, 2525)\t1\n",
            "  (0, 2064)\t1\n",
            "  (0, 4164)\t1\n",
            "  (0, 1730)\t1\n",
            "  (0, 22)\t2\n",
            "  :\t:\n",
            "  (0, 3890)\t3\n",
            "  (0, 1401)\t1\n",
            "  (0, 1068)\t1\n",
            "  (0, 2381)\t1\n",
            "  (0, 2382)\t1\n",
            "  (0, 317)\t1\n",
            "  (0, 157)\t1\n",
            "  (0, 166)\t1\n",
            "  (0, 4166)\t2\n",
            "  (0, 2261)\t2\n",
            "  (0, 1014)\t2\n",
            "  (0, 2925)\t7\n",
            "  (0, 451)\t1\n",
            "  (0, 694)\t2\n",
            "  (0, 568)\t1\n",
            "  (0, 4773)\t2\n",
            "  (0, 1155)\t2\n",
            "  (0, 2652)\t2\n",
            "  (0, 3943)\t2\n",
            "  (0, 1984)\t2\n",
            "  (0, 542)\t2\n",
            "  (0, 14)\t2\n",
            "  (0, 4602)\t2\n",
            "  (0, 4786)\t2\n",
            "  (0, 2982)\t3\n",
            "Actual Label: Spam\n",
            "Predicted Label: Spam\n",
            "\n",
            "Sample 2:\n",
            "Text:   (0, 661)\t4\n",
            "  (0, 1310)\t6\n",
            "  (0, 54)\t2\n",
            "  (0, 201)\t9\n",
            "  (0, 3902)\t1\n",
            "  (0, 3411)\t1\n",
            "  (0, 1944)\t3\n",
            "  (0, 1582)\t2\n",
            "  (0, 2890)\t7\n",
            "  (0, 3791)\t6\n",
            "  (0, 95)\t3\n",
            "  (0, 3558)\t4\n",
            "  (0, 1913)\t4\n",
            "  (0, 2493)\t7\n",
            "  (0, 2525)\t1\n",
            "  (0, 2064)\t1\n",
            "  (0, 4164)\t1\n",
            "  (0, 1730)\t1\n",
            "  (0, 22)\t6\n",
            "  (0, 2649)\t4\n",
            "  (0, 216)\t1\n",
            "  (0, 1699)\t1\n",
            "  (0, 4187)\t1\n",
            "  (0, 3338)\t6\n",
            "  (0, 69)\t6\n",
            "  :\t:\n",
            "  (0, 2228)\t1\n",
            "  (0, 179)\t1\n",
            "  (0, 4532)\t1\n",
            "  (0, 3140)\t1\n",
            "  (0, 4877)\t1\n",
            "  (0, 2377)\t1\n",
            "  (0, 4478)\t1\n",
            "  (0, 3441)\t1\n",
            "  (0, 1641)\t1\n",
            "  (0, 4927)\t1\n",
            "  (0, 1934)\t1\n",
            "  (0, 4727)\t1\n",
            "  (0, 183)\t1\n",
            "  (0, 2016)\t1\n",
            "  (0, 4815)\t8\n",
            "  (0, 3945)\t1\n",
            "  (0, 932)\t1\n",
            "  (0, 4088)\t5\n",
            "  (0, 4373)\t1\n",
            "  (0, 4618)\t3\n",
            "  (0, 1235)\t1\n",
            "  (0, 1726)\t1\n",
            "  (0, 2771)\t4\n",
            "  (0, 4370)\t1\n",
            "  (0, 3548)\t1\n",
            "Actual Label: Ham\n",
            "Predicted Label: Ham\n",
            "\n",
            "Sample 3:\n",
            "Text:   (0, 1310)\t18\n",
            "  (0, 288)\t1\n",
            "  (0, 54)\t2\n",
            "  (0, 201)\t8\n",
            "  (0, 3902)\t1\n",
            "  (0, 3411)\t1\n",
            "  (0, 1582)\t1\n",
            "  (0, 4985)\t1\n",
            "  (0, 2890)\t6\n",
            "  (0, 3213)\t2\n",
            "  (0, 3791)\t5\n",
            "  (0, 95)\t2\n",
            "  (0, 3465)\t2\n",
            "  (0, 2762)\t1\n",
            "  (0, 3558)\t1\n",
            "  (0, 1913)\t2\n",
            "  (0, 2493)\t4\n",
            "  (0, 2681)\t2\n",
            "  (0, 31)\t4\n",
            "  (0, 1802)\t1\n",
            "  (0, 2525)\t1\n",
            "  (0, 2064)\t1\n",
            "  (0, 4164)\t1\n",
            "  (0, 1730)\t1\n",
            "  (0, 22)\t2\n",
            "  :\t:\n",
            "  (0, 3699)\t1\n",
            "  (0, 2603)\t1\n",
            "  (0, 3297)\t6\n",
            "  (0, 3600)\t1\n",
            "  (0, 4943)\t1\n",
            "  (0, 3817)\t1\n",
            "  (0, 3097)\t1\n",
            "  (0, 4848)\t1\n",
            "  (0, 59)\t1\n",
            "  (0, 3285)\t1\n",
            "  (0, 909)\t1\n",
            "  (0, 547)\t1\n",
            "  (0, 3071)\t2\n",
            "  (0, 214)\t1\n",
            "  (0, 63)\t1\n",
            "  (0, 3395)\t1\n",
            "  (0, 2116)\t1\n",
            "  (0, 3194)\t1\n",
            "  (0, 3252)\t1\n",
            "  (0, 1252)\t2\n",
            "  (0, 1470)\t10\n",
            "  (0, 337)\t9\n",
            "  (0, 4385)\t9\n",
            "  (0, 4687)\t1\n",
            "  (0, 3318)\t1\n",
            "Actual Label: Spam\n",
            "Predicted Label: Spam\n",
            "\n",
            "Sample 4:\n",
            "Text:   (0, 1310)\t1\n",
            "  (0, 2935)\t1\n",
            "  (0, 3348)\t1\n",
            "  (0, 855)\t1\n",
            "  (0, 786)\t1\n",
            "  (0, 3729)\t1\n",
            "  (0, 10)\t1\n",
            "  (0, 468)\t1\n",
            "  (0, 2294)\t1\n",
            "  (0, 4956)\t1\n",
            "  (0, 780)\t1\n",
            "  (0, 300)\t1\n",
            "  (0, 583)\t1\n",
            "  (0, 432)\t1\n",
            "  (0, 595)\t1\n",
            "  (0, 517)\t1\n",
            "Actual Label: Ham\n",
            "Predicted Label: Ham\n",
            "\n",
            "Sample 5:\n",
            "Text:   (0, 1310)\t1\n",
            "  (0, 2935)\t1\n",
            "  (0, 3348)\t1\n",
            "  (0, 855)\t1\n",
            "  (0, 786)\t1\n",
            "  (0, 3729)\t1\n",
            "  (0, 10)\t1\n",
            "  (0, 468)\t1\n",
            "  (0, 2294)\t1\n",
            "  (0, 4956)\t1\n",
            "  (0, 780)\t1\n",
            "  (0, 300)\t1\n",
            "  (0, 583)\t1\n",
            "  (0, 432)\t1\n",
            "  (0, 595)\t1\n",
            "  (0, 517)\t1\n",
            "Actual Label: Ham\n",
            "Predicted Label: Ham\n",
            "\n"
          ]
        }
      ]
    }
  ]
}